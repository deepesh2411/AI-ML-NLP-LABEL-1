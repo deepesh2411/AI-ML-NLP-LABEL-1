{
 "cells": [
  {
   "cell_type": "code",
   "execution_count": 1,
   "metadata": {},
   "outputs": [],
   "source": [
    "#importing libraries\n",
    "\n",
    "import numpy as np\n",
    "import pandas as pd\n",
    "import matplotlib.pyplot as plt\n",
    "import seaborn as sns"
   ]
  },
  {
   "cell_type": "markdown",
   "metadata": {},
   "source": [
    "# (A) Applied Statistics: "
   ]
  },
  {
   "cell_type": "markdown",
   "metadata": {},
   "source": [
    "Question 1"
   ]
  },
  {
   "cell_type": "code",
   "execution_count": 2,
   "metadata": {
    "scrolled": true
   },
   "outputs": [
    {
     "data": {
      "text/html": [
       "<div>\n",
       "<style scoped>\n",
       "    .dataframe tbody tr th:only-of-type {\n",
       "        vertical-align: middle;\n",
       "    }\n",
       "\n",
       "    .dataframe tbody tr th {\n",
       "        vertical-align: top;\n",
       "    }\n",
       "\n",
       "    .dataframe thead th {\n",
       "        text-align: right;\n",
       "    }\n",
       "</style>\n",
       "<table border=\"1\" class=\"dataframe\">\n",
       "  <thead>\n",
       "    <tr style=\"text-align: right;\">\n",
       "      <th></th>\n",
       "      <th>Emp#</th>\n",
       "      <th>YearsOfExp</th>\n",
       "      <th>Salary in Rs.</th>\n",
       "    </tr>\n",
       "  </thead>\n",
       "  <tbody>\n",
       "    <tr>\n",
       "      <th>0</th>\n",
       "      <td>1</td>\n",
       "      <td>10</td>\n",
       "      <td>126015</td>\n",
       "    </tr>\n",
       "    <tr>\n",
       "      <th>1</th>\n",
       "      <td>2</td>\n",
       "      <td>1</td>\n",
       "      <td>12598</td>\n",
       "    </tr>\n",
       "    <tr>\n",
       "      <th>2</th>\n",
       "      <td>3</td>\n",
       "      <td>8</td>\n",
       "      <td>100639</td>\n",
       "    </tr>\n",
       "    <tr>\n",
       "      <th>3</th>\n",
       "      <td>4</td>\n",
       "      <td>10</td>\n",
       "      <td>125351</td>\n",
       "    </tr>\n",
       "    <tr>\n",
       "      <th>4</th>\n",
       "      <td>5</td>\n",
       "      <td>2</td>\n",
       "      <td>25031</td>\n",
       "    </tr>\n",
       "    <tr>\n",
       "      <th>5</th>\n",
       "      <td>6</td>\n",
       "      <td>5</td>\n",
       "      <td>62630</td>\n",
       "    </tr>\n",
       "    <tr>\n",
       "      <th>6</th>\n",
       "      <td>7</td>\n",
       "      <td>9</td>\n",
       "      <td>112620</td>\n",
       "    </tr>\n",
       "    <tr>\n",
       "      <th>7</th>\n",
       "      <td>8</td>\n",
       "      <td>8</td>\n",
       "      <td>100639</td>\n",
       "    </tr>\n",
       "    <tr>\n",
       "      <th>8</th>\n",
       "      <td>9</td>\n",
       "      <td>4</td>\n",
       "      <td>50145</td>\n",
       "    </tr>\n",
       "    <tr>\n",
       "      <th>9</th>\n",
       "      <td>10</td>\n",
       "      <td>2</td>\n",
       "      <td>25232</td>\n",
       "    </tr>\n",
       "    <tr>\n",
       "      <th>10</th>\n",
       "      <td>11</td>\n",
       "      <td>9</td>\n",
       "      <td>112770</td>\n",
       "    </tr>\n",
       "    <tr>\n",
       "      <th>11</th>\n",
       "      <td>12</td>\n",
       "      <td>3</td>\n",
       "      <td>37512</td>\n",
       "    </tr>\n",
       "    <tr>\n",
       "      <th>12</th>\n",
       "      <td>13</td>\n",
       "      <td>4</td>\n",
       "      <td>50274</td>\n",
       "    </tr>\n",
       "    <tr>\n",
       "      <th>13</th>\n",
       "      <td>14</td>\n",
       "      <td>5</td>\n",
       "      <td>62768</td>\n",
       "    </tr>\n",
       "    <tr>\n",
       "      <th>14</th>\n",
       "      <td>15</td>\n",
       "      <td>10</td>\n",
       "      <td>125363</td>\n",
       "    </tr>\n",
       "    <tr>\n",
       "      <th>15</th>\n",
       "      <td>16</td>\n",
       "      <td>2</td>\n",
       "      <td>25226</td>\n",
       "    </tr>\n",
       "    <tr>\n",
       "      <th>16</th>\n",
       "      <td>17</td>\n",
       "      <td>6</td>\n",
       "      <td>75392</td>\n",
       "    </tr>\n",
       "    <tr>\n",
       "      <th>17</th>\n",
       "      <td>18</td>\n",
       "      <td>7</td>\n",
       "      <td>87779</td>\n",
       "    </tr>\n",
       "    <tr>\n",
       "      <th>18</th>\n",
       "      <td>19</td>\n",
       "      <td>7</td>\n",
       "      <td>87654</td>\n",
       "    </tr>\n",
       "    <tr>\n",
       "      <th>19</th>\n",
       "      <td>20</td>\n",
       "      <td>3</td>\n",
       "      <td>37592</td>\n",
       "    </tr>\n",
       "    <tr>\n",
       "      <th>20</th>\n",
       "      <td>21</td>\n",
       "      <td>10</td>\n",
       "      <td>125186</td>\n",
       "    </tr>\n",
       "    <tr>\n",
       "      <th>21</th>\n",
       "      <td>22</td>\n",
       "      <td>2</td>\n",
       "      <td>25187</td>\n",
       "    </tr>\n",
       "    <tr>\n",
       "      <th>22</th>\n",
       "      <td>23</td>\n",
       "      <td>9</td>\n",
       "      <td>113309</td>\n",
       "    </tr>\n",
       "    <tr>\n",
       "      <th>23</th>\n",
       "      <td>24</td>\n",
       "      <td>9</td>\n",
       "      <td>113112</td>\n",
       "    </tr>\n",
       "    <tr>\n",
       "      <th>24</th>\n",
       "      <td>25</td>\n",
       "      <td>10</td>\n",
       "      <td>125506</td>\n",
       "    </tr>\n",
       "  </tbody>\n",
       "</table>\n",
       "</div>"
      ],
      "text/plain": [
       "    Emp#  YearsOfExp  Salary in Rs.\n",
       "0      1          10         126015\n",
       "1      2           1          12598\n",
       "2      3           8         100639\n",
       "3      4          10         125351\n",
       "4      5           2          25031\n",
       "5      6           5          62630\n",
       "6      7           9         112620\n",
       "7      8           8         100639\n",
       "8      9           4          50145\n",
       "9     10           2          25232\n",
       "10    11           9         112770\n",
       "11    12           3          37512\n",
       "12    13           4          50274\n",
       "13    14           5          62768\n",
       "14    15          10         125363\n",
       "15    16           2          25226\n",
       "16    17           6          75392\n",
       "17    18           7          87779\n",
       "18    19           7          87654\n",
       "19    20           3          37592\n",
       "20    21          10         125186\n",
       "21    22           2          25187\n",
       "22    23           9         113309\n",
       "23    24           9         113112\n",
       "24    25          10         125506"
      ]
     },
     "execution_count": 2,
     "metadata": {},
     "output_type": "execute_result"
    }
   ],
   "source": [
    "#readig the excel sheet\n",
    "df = pd.read_excel('Stats.xlsx')\n",
    "df"
   ]
  },
  {
   "cell_type": "code",
   "execution_count": 3,
   "metadata": {},
   "outputs": [
    {
     "data": {
      "text/plain": [
       "77821.2"
      ]
     },
     "execution_count": 3,
     "metadata": {},
     "output_type": "execute_result"
    }
   ],
   "source": [
    "#calculating mean\n",
    "mean = df['Salary in Rs.'].mean()\n",
    "mean"
   ]
  },
  {
   "cell_type": "code",
   "execution_count": 4,
   "metadata": {},
   "outputs": [
    {
     "data": {
      "text/plain": [
       "87654.0"
      ]
     },
     "execution_count": 4,
     "metadata": {},
     "output_type": "execute_result"
    }
   ],
   "source": [
    "#calculating median\n",
    "median = df['Salary in Rs.'].median()\n",
    "median"
   ]
  },
  {
   "cell_type": "code",
   "execution_count": 5,
   "metadata": {},
   "outputs": [
    {
     "data": {
      "text/plain": [
       "100639"
      ]
     },
     "execution_count": 5,
     "metadata": {},
     "output_type": "execute_result"
    }
   ],
   "source": [
    "#calculating mode\n",
    "mode = df['Salary in Rs.'].mode()[0]\n",
    "mode"
   ]
  },
  {
   "cell_type": "code",
   "execution_count": 6,
   "metadata": {
    "scrolled": true
   },
   "outputs": [
    {
     "data": {
      "text/html": [
       "<div>\n",
       "<style scoped>\n",
       "    .dataframe tbody tr th:only-of-type {\n",
       "        vertical-align: middle;\n",
       "    }\n",
       "\n",
       "    .dataframe tbody tr th {\n",
       "        vertical-align: top;\n",
       "    }\n",
       "\n",
       "    .dataframe thead th {\n",
       "        text-align: right;\n",
       "    }\n",
       "</style>\n",
       "<table border=\"1\" class=\"dataframe\">\n",
       "  <thead>\n",
       "    <tr style=\"text-align: right;\">\n",
       "      <th></th>\n",
       "      <th>Emp#</th>\n",
       "      <th>YearsOfExp</th>\n",
       "      <th>Salary in Rs.</th>\n",
       "    </tr>\n",
       "  </thead>\n",
       "  <tbody>\n",
       "    <tr>\n",
       "      <th>1</th>\n",
       "      <td>2</td>\n",
       "      <td>1</td>\n",
       "      <td>12598</td>\n",
       "    </tr>\n",
       "    <tr>\n",
       "      <th>4</th>\n",
       "      <td>5</td>\n",
       "      <td>2</td>\n",
       "      <td>25031</td>\n",
       "    </tr>\n",
       "    <tr>\n",
       "      <th>21</th>\n",
       "      <td>22</td>\n",
       "      <td>2</td>\n",
       "      <td>25187</td>\n",
       "    </tr>\n",
       "    <tr>\n",
       "      <th>15</th>\n",
       "      <td>16</td>\n",
       "      <td>2</td>\n",
       "      <td>25226</td>\n",
       "    </tr>\n",
       "    <tr>\n",
       "      <th>9</th>\n",
       "      <td>10</td>\n",
       "      <td>2</td>\n",
       "      <td>25232</td>\n",
       "    </tr>\n",
       "    <tr>\n",
       "      <th>11</th>\n",
       "      <td>12</td>\n",
       "      <td>3</td>\n",
       "      <td>37512</td>\n",
       "    </tr>\n",
       "    <tr>\n",
       "      <th>19</th>\n",
       "      <td>20</td>\n",
       "      <td>3</td>\n",
       "      <td>37592</td>\n",
       "    </tr>\n",
       "    <tr>\n",
       "      <th>8</th>\n",
       "      <td>9</td>\n",
       "      <td>4</td>\n",
       "      <td>50145</td>\n",
       "    </tr>\n",
       "    <tr>\n",
       "      <th>12</th>\n",
       "      <td>13</td>\n",
       "      <td>4</td>\n",
       "      <td>50274</td>\n",
       "    </tr>\n",
       "    <tr>\n",
       "      <th>5</th>\n",
       "      <td>6</td>\n",
       "      <td>5</td>\n",
       "      <td>62630</td>\n",
       "    </tr>\n",
       "    <tr>\n",
       "      <th>13</th>\n",
       "      <td>14</td>\n",
       "      <td>5</td>\n",
       "      <td>62768</td>\n",
       "    </tr>\n",
       "    <tr>\n",
       "      <th>16</th>\n",
       "      <td>17</td>\n",
       "      <td>6</td>\n",
       "      <td>75392</td>\n",
       "    </tr>\n",
       "    <tr>\n",
       "      <th>18</th>\n",
       "      <td>19</td>\n",
       "      <td>7</td>\n",
       "      <td>87654</td>\n",
       "    </tr>\n",
       "    <tr>\n",
       "      <th>17</th>\n",
       "      <td>18</td>\n",
       "      <td>7</td>\n",
       "      <td>87779</td>\n",
       "    </tr>\n",
       "    <tr>\n",
       "      <th>2</th>\n",
       "      <td>3</td>\n",
       "      <td>8</td>\n",
       "      <td>100639</td>\n",
       "    </tr>\n",
       "    <tr>\n",
       "      <th>7</th>\n",
       "      <td>8</td>\n",
       "      <td>8</td>\n",
       "      <td>100639</td>\n",
       "    </tr>\n",
       "    <tr>\n",
       "      <th>6</th>\n",
       "      <td>7</td>\n",
       "      <td>9</td>\n",
       "      <td>112620</td>\n",
       "    </tr>\n",
       "    <tr>\n",
       "      <th>10</th>\n",
       "      <td>11</td>\n",
       "      <td>9</td>\n",
       "      <td>112770</td>\n",
       "    </tr>\n",
       "    <tr>\n",
       "      <th>23</th>\n",
       "      <td>24</td>\n",
       "      <td>9</td>\n",
       "      <td>113112</td>\n",
       "    </tr>\n",
       "    <tr>\n",
       "      <th>22</th>\n",
       "      <td>23</td>\n",
       "      <td>9</td>\n",
       "      <td>113309</td>\n",
       "    </tr>\n",
       "    <tr>\n",
       "      <th>20</th>\n",
       "      <td>21</td>\n",
       "      <td>10</td>\n",
       "      <td>125186</td>\n",
       "    </tr>\n",
       "    <tr>\n",
       "      <th>3</th>\n",
       "      <td>4</td>\n",
       "      <td>10</td>\n",
       "      <td>125351</td>\n",
       "    </tr>\n",
       "    <tr>\n",
       "      <th>14</th>\n",
       "      <td>15</td>\n",
       "      <td>10</td>\n",
       "      <td>125363</td>\n",
       "    </tr>\n",
       "    <tr>\n",
       "      <th>24</th>\n",
       "      <td>25</td>\n",
       "      <td>10</td>\n",
       "      <td>125506</td>\n",
       "    </tr>\n",
       "    <tr>\n",
       "      <th>0</th>\n",
       "      <td>1</td>\n",
       "      <td>10</td>\n",
       "      <td>126015</td>\n",
       "    </tr>\n",
       "  </tbody>\n",
       "</table>\n",
       "</div>"
      ],
      "text/plain": [
       "    Emp#  YearsOfExp  Salary in Rs.\n",
       "1      2           1          12598\n",
       "4      5           2          25031\n",
       "21    22           2          25187\n",
       "15    16           2          25226\n",
       "9     10           2          25232\n",
       "11    12           3          37512\n",
       "19    20           3          37592\n",
       "8      9           4          50145\n",
       "12    13           4          50274\n",
       "5      6           5          62630\n",
       "13    14           5          62768\n",
       "16    17           6          75392\n",
       "18    19           7          87654\n",
       "17    18           7          87779\n",
       "2      3           8         100639\n",
       "7      8           8         100639\n",
       "6      7           9         112620\n",
       "10    11           9         112770\n",
       "23    24           9         113112\n",
       "22    23           9         113309\n",
       "20    21          10         125186\n",
       "3      4          10         125351\n",
       "14    15          10         125363\n",
       "24    25          10         125506\n",
       "0      1          10         126015"
      ]
     },
     "execution_count": 6,
     "metadata": {},
     "output_type": "execute_result"
    }
   ],
   "source": [
    "df.sort_values('Salary in Rs.')"
   ]
  },
  {
   "cell_type": "markdown",
   "metadata": {},
   "source": [
    "Question 2"
   ]
  },
  {
   "cell_type": "code",
   "execution_count": 7,
   "metadata": {},
   "outputs": [
    {
     "data": {
      "text/plain": [
       "39847.6152810094"
      ]
     },
     "execution_count": 7,
     "metadata": {},
     "output_type": "execute_result"
    }
   ],
   "source": [
    "sd = df['Salary in Rs.'].std()\n",
    "sd"
   ]
  },
  {
   "cell_type": "code",
   "execution_count": 8,
   "metadata": {},
   "outputs": [
    {
     "data": {
      "text/plain": [
       "1587832443.5833337"
      ]
     },
     "execution_count": 8,
     "metadata": {},
     "output_type": "execute_result"
    }
   ],
   "source": [
    "variance = df['Salary in Rs.'].var()\n",
    "variance"
   ]
  },
  {
   "cell_type": "code",
   "execution_count": null,
   "metadata": {},
   "outputs": [],
   "source": []
  },
  {
   "cell_type": "code",
   "execution_count": null,
   "metadata": {},
   "outputs": [],
   "source": []
  },
  {
   "cell_type": "markdown",
   "metadata": {},
   "source": [
    "# (B)Natural Language Processing: "
   ]
  },
  {
   "cell_type": "code",
   "execution_count": null,
   "metadata": {},
   "outputs": [],
   "source": []
  },
  {
   "cell_type": "code",
   "execution_count": null,
   "metadata": {},
   "outputs": [],
   "source": []
  },
  {
   "cell_type": "markdown",
   "metadata": {},
   "source": [
    "### qustion 1"
   ]
  },
  {
   "cell_type": "code",
   "execution_count": 9,
   "metadata": {},
   "outputs": [],
   "source": [
    "import re\n",
    "import csv\n",
    "from nltk.tokenize import sent_tokenize\n",
    "from nltk.tokenize import word_tokenize\n",
    "from nltk.stem import WordNetLemmatizer \n",
    "from nltk.chunk import ne_chunk\n",
    "from nltk.tag import pos_tag\n",
    "from nltk.corpus import stopwords\n",
    "from nltk.stem.porter import PorterStemmer"
   ]
  },
  {
   "cell_type": "code",
   "execution_count": 10,
   "metadata": {},
   "outputs": [],
   "source": [
    "pd.set_option('display.max_column',None)\n",
    "pd.set_option('display.max_rows',None)\n",
    "pd.set_option('max_colwidth', 300)"
   ]
  },
  {
   "cell_type": "code",
   "execution_count": 11,
   "metadata": {},
   "outputs": [
    {
     "data": {
      "text/html": [
       "<div>\n",
       "<style scoped>\n",
       "    .dataframe tbody tr th:only-of-type {\n",
       "        vertical-align: middle;\n",
       "    }\n",
       "\n",
       "    .dataframe tbody tr th {\n",
       "        vertical-align: top;\n",
       "    }\n",
       "\n",
       "    .dataframe thead th {\n",
       "        text-align: right;\n",
       "    }\n",
       "</style>\n",
       "<table border=\"1\" class=\"dataframe\">\n",
       "  <thead>\n",
       "    <tr style=\"text-align: right;\">\n",
       "      <th></th>\n",
       "      <th>Comment</th>\n",
       "    </tr>\n",
       "  </thead>\n",
       "  <tbody>\n",
       "    <tr>\n",
       "      <th>0</th>\n",
       "      <td>\"Hello there, how are you? Weather is awesome. Its raining here now.\"</td>\n",
       "    </tr>\n",
       "    <tr>\n",
       "      <th>1</th>\n",
       "      <td>\"Hello Mr. Raja, how are you? Weather is awesome. Its raining here now.\"</td>\n",
       "    </tr>\n",
       "    <tr>\n",
       "      <th>2</th>\n",
       "      <td>\"Hello Mr. Raja, how are you. Weather is bad. Its heavily raining here now.\"</td>\n",
       "    </tr>\n",
       "    <tr>\n",
       "      <th>3</th>\n",
       "      <td>\"NLP is great technique. It is nice to learn this technique.\"</td>\n",
       "    </tr>\n",
       "    <tr>\n",
       "      <th>4</th>\n",
       "      <td>\"AI is making difference in this world now.  It would be helpful for betterment of human life. We need to make advantage of that.\"</td>\n",
       "    </tr>\n",
       "  </tbody>\n",
       "</table>\n",
       "</div>"
      ],
      "text/plain": [
       "                                                                                                                              Comment\n",
       "0                                                               \"Hello there, how are you? Weather is awesome. Its raining here now.\"\n",
       "1                                                            \"Hello Mr. Raja, how are you? Weather is awesome. Its raining here now.\"\n",
       "2                                                        \"Hello Mr. Raja, how are you. Weather is bad. Its heavily raining here now.\"\n",
       "3                                                                       \"NLP is great technique. It is nice to learn this technique.\"\n",
       "4  \"AI is making difference in this world now.  It would be helpful for betterment of human life. We need to make advantage of that.\""
      ]
     },
     "execution_count": 11,
     "metadata": {},
     "output_type": "execute_result"
    }
   ],
   "source": [
    "df2 = pd.read_excel('data_in.xlsx',quoting = 3)\n",
    "df2"
   ]
  },
  {
   "cell_type": "code",
   "execution_count": 12,
   "metadata": {},
   "outputs": [
    {
     "data": {
      "text/plain": [
       "'\"Hello there, how are you? Weather is awesome. Its raining here now.\"'"
      ]
     },
     "execution_count": 12,
     "metadata": {},
     "output_type": "execute_result"
    }
   ],
   "source": [
    "df2.iloc[0,0]"
   ]
  },
  {
   "cell_type": "code",
   "execution_count": 14,
   "metadata": {},
   "outputs": [
    {
     "name": "stdout",
     "output_type": "stream",
     "text": [
      "['\"Hello there, how are you?', 'Weather is awesome.', 'Its raining here now.\"']\n",
      "['\"Hello Mr. Raja, how are you?', 'Weather is awesome.', 'Its raining here now.\"']\n",
      "['\"Hello Mr. Raja, how are you.', 'Weather is bad.', 'Its heavily raining here now.\"']\n",
      "['\"NLP is great technique.', 'It is nice to learn this technique.\"']\n",
      "['\"AI is making difference in this world now.', 'It would be helpful for betterment of human life.', 'We need to make advantage of that.\"']\n"
     ]
    }
   ],
   "source": [
    "sentence = []\n",
    "for i in range(len(df2)):\n",
    "    sent = sent_tokenize(df2.iloc[i,0])\n",
    "    print(sent)\n",
    "    sentence.append(sent)"
   ]
  },
  {
   "cell_type": "code",
   "execution_count": 16,
   "metadata": {},
   "outputs": [
    {
     "name": "stdout",
     "output_type": "stream",
     "text": [
      "['\"Hello there, how are you?', 'Weather is awesome.', 'Its raining here now.\"']\n",
      "['\"Hello Mr. Raja, how are you?', 'Weather is awesome.', 'Its raining here now.\"']\n",
      "['\"Hello Mr. Raja, how are you.', 'Weather is bad.', 'Its heavily raining here now.\"']\n",
      "['\"NLP is great technique.', 'It is nice to learn this technique.\"']\n",
      "['\"AI is making difference in this world now.', 'It would be helpful for betterment of human life.', 'We need to make advantage of that.\"']\n"
     ]
    }
   ],
   "source": [
    "for i in range(len(sentence)):\n",
    "    print(sentence[i])"
   ]
  },
  {
   "cell_type": "code",
   "execution_count": 17,
   "metadata": {},
   "outputs": [],
   "source": [
    "with open('data_out.csv', 'w', newline='') as file:\n",
    "    writer = csv.writer(file)\n",
    "    for i in range(len(sentence)):\n",
    "        writer.writerow(sentence[i])"
   ]
  },
  {
   "cell_type": "code",
   "execution_count": 18,
   "metadata": {},
   "outputs": [
    {
     "data": {
      "text/html": [
       "<div>\n",
       "<style scoped>\n",
       "    .dataframe tbody tr th:only-of-type {\n",
       "        vertical-align: middle;\n",
       "    }\n",
       "\n",
       "    .dataframe tbody tr th {\n",
       "        vertical-align: top;\n",
       "    }\n",
       "\n",
       "    .dataframe thead th {\n",
       "        text-align: right;\n",
       "    }\n",
       "</style>\n",
       "<table border=\"1\" class=\"dataframe\">\n",
       "  <thead>\n",
       "    <tr style=\"text-align: right;\">\n",
       "      <th></th>\n",
       "      <th>0</th>\n",
       "      <th>1</th>\n",
       "      <th>2</th>\n",
       "    </tr>\n",
       "  </thead>\n",
       "  <tbody>\n",
       "    <tr>\n",
       "      <th>0</th>\n",
       "      <td>\"Hello there, how are you?</td>\n",
       "      <td>Weather is awesome.</td>\n",
       "      <td>Its raining here now.\"</td>\n",
       "    </tr>\n",
       "    <tr>\n",
       "      <th>1</th>\n",
       "      <td>\"Hello Mr. Raja, how are you?</td>\n",
       "      <td>Weather is awesome.</td>\n",
       "      <td>Its raining here now.\"</td>\n",
       "    </tr>\n",
       "    <tr>\n",
       "      <th>2</th>\n",
       "      <td>\"Hello Mr. Raja, how are you.</td>\n",
       "      <td>Weather is bad.</td>\n",
       "      <td>Its heavily raining here now.\"</td>\n",
       "    </tr>\n",
       "    <tr>\n",
       "      <th>3</th>\n",
       "      <td>\"NLP is great technique.</td>\n",
       "      <td>It is nice to learn this technique.\"</td>\n",
       "      <td>NaN</td>\n",
       "    </tr>\n",
       "    <tr>\n",
       "      <th>4</th>\n",
       "      <td>\"AI is making difference in this world now.</td>\n",
       "      <td>It would be helpful for betterment of human life.</td>\n",
       "      <td>We need to make advantage of that.\"</td>\n",
       "    </tr>\n",
       "  </tbody>\n",
       "</table>\n",
       "</div>"
      ],
      "text/plain": [
       "                                             0  \\\n",
       "0                   \"Hello there, how are you?   \n",
       "1                \"Hello Mr. Raja, how are you?   \n",
       "2                \"Hello Mr. Raja, how are you.   \n",
       "3                     \"NLP is great technique.   \n",
       "4  \"AI is making difference in this world now.   \n",
       "\n",
       "                                                   1  \\\n",
       "0                                Weather is awesome.   \n",
       "1                                Weather is awesome.   \n",
       "2                                    Weather is bad.   \n",
       "3               It is nice to learn this technique.\"   \n",
       "4  It would be helpful for betterment of human life.   \n",
       "\n",
       "                                     2  \n",
       "0               Its raining here now.\"  \n",
       "1               Its raining here now.\"  \n",
       "2       Its heavily raining here now.\"  \n",
       "3                                  NaN  \n",
       "4  We need to make advantage of that.\"  "
      ]
     },
     "execution_count": 18,
     "metadata": {},
     "output_type": "execute_result"
    }
   ],
   "source": [
    "df_out = pd.read_csv('data_out.csv',header = None)\n",
    "df_out"
   ]
  },
  {
   "cell_type": "markdown",
   "metadata": {},
   "source": [
    "### question 2"
   ]
  },
  {
   "cell_type": "code",
   "execution_count": 19,
   "metadata": {},
   "outputs": [
    {
     "data": {
      "text/html": [
       "<div>\n",
       "<style scoped>\n",
       "    .dataframe tbody tr th:only-of-type {\n",
       "        vertical-align: middle;\n",
       "    }\n",
       "\n",
       "    .dataframe tbody tr th {\n",
       "        vertical-align: top;\n",
       "    }\n",
       "\n",
       "    .dataframe thead th {\n",
       "        text-align: right;\n",
       "    }\n",
       "</style>\n",
       "<table border=\"1\" class=\"dataframe\">\n",
       "  <thead>\n",
       "    <tr style=\"text-align: right;\">\n",
       "      <th></th>\n",
       "      <th>Comment</th>\n",
       "    </tr>\n",
       "  </thead>\n",
       "  <tbody>\n",
       "    <tr>\n",
       "      <th>0</th>\n",
       "      <td>\"Hello there, how are you? Weather is awesome. Its raining here now.\"</td>\n",
       "    </tr>\n",
       "    <tr>\n",
       "      <th>1</th>\n",
       "      <td>\"Hello Mr. Raja, how are you? Weather is awesome. Its raining here now.\"</td>\n",
       "    </tr>\n",
       "    <tr>\n",
       "      <th>2</th>\n",
       "      <td>\"Hello Mr. Raja, how are you. Weather is bad. Its heavily raining here now.\"</td>\n",
       "    </tr>\n",
       "    <tr>\n",
       "      <th>3</th>\n",
       "      <td>\"NLP is great technique. It is nice to learn this technique.\"</td>\n",
       "    </tr>\n",
       "    <tr>\n",
       "      <th>4</th>\n",
       "      <td>\"AI is making difference in this world now.  It would be helpful for betterment of human life. We need to make advantage of that.\"</td>\n",
       "    </tr>\n",
       "  </tbody>\n",
       "</table>\n",
       "</div>"
      ],
      "text/plain": [
       "                                                                                                                              Comment\n",
       "0                                                               \"Hello there, how are you? Weather is awesome. Its raining here now.\"\n",
       "1                                                            \"Hello Mr. Raja, how are you? Weather is awesome. Its raining here now.\"\n",
       "2                                                        \"Hello Mr. Raja, how are you. Weather is bad. Its heavily raining here now.\"\n",
       "3                                                                       \"NLP is great technique. It is nice to learn this technique.\"\n",
       "4  \"AI is making difference in this world now.  It would be helpful for betterment of human life. We need to make advantage of that.\""
      ]
     },
     "execution_count": 19,
     "metadata": {},
     "output_type": "execute_result"
    }
   ],
   "source": [
    "df2"
   ]
  },
  {
   "cell_type": "code",
   "execution_count": 20,
   "metadata": {},
   "outputs": [
    {
     "data": {
      "text/plain": [
       "' Hello there  how are you  Weather is awesome  Its raining here now  '"
      ]
     },
     "execution_count": 20,
     "metadata": {},
     "output_type": "execute_result"
    }
   ],
   "source": [
    "import re\n",
    "re.sub('[^a-zA-Z]',' ',df2['Comment'][0])         # 1st parameter ---> what we want , 2nd parameter---> replace with one space \n",
    "                                                             #3rd parameter --> for each row in dataframe"
   ]
  },
  {
   "cell_type": "code",
   "execution_count": 24,
   "metadata": {
    "scrolled": true
   },
   "outputs": [
    {
     "name": "stdout",
     "output_type": "stream",
     "text": [
      "words in row 1  :   ['Hello', 'there', 'how', 'are', 'you', 'Weather', 'is', 'awesome', 'Its', 'raining', 'here', 'now']\n",
      "words in row 2  :   ['Hello', 'Mr', 'Raja', 'how', 'are', 'you', 'Weather', 'is', 'awesome', 'Its', 'raining', 'here', 'now']\n",
      "words in row 3  :   ['Hello', 'Mr', 'Raja', 'how', 'are', 'you', 'Weather', 'is', 'bad', 'Its', 'heavily', 'raining', 'here', 'now']\n",
      "words in row 4  :   ['NLP', 'is', 'great', 'technique', 'It', 'is', 'nice', 'to', 'learn', 'this', 'technique']\n",
      "words in row 5  :   ['AI', 'is', 'making', 'difference', 'in', 'this', 'world', 'now', 'It', 'would', 'be', 'helpful', 'for', 'betterment', 'of', 'human', 'life', 'We', 'need', 'to', 'make', 'advantage', 'of', 'that']\n"
     ]
    }
   ],
   "source": [
    "word = []\n",
    "for i in range(len(df2)):\n",
    "    review = re.sub('[^a-zA-Z]',' ',df2['Comment'][i])   # 1st parameter ---> what we want , 2nd parameter---> replace with one space \n",
    "                                                              #3rd parameter --> for each row in dataframe\n",
    "    words = word_tokenize(review)\n",
    "    print(\"words in row\",i+1,\" :  \",words)\n",
    "    word.append(words)"
   ]
  },
  {
   "cell_type": "code",
   "execution_count": 27,
   "metadata": {},
   "outputs": [],
   "source": [
    "import csv\n",
    "with open('data_out2.csv', 'w', newline='') as file:\n",
    "    writer = csv.writer(file)\n",
    "    for i in range(len(word)-1,-1,-1):      # it creates the number of column equal to no of words in first row thats why i have done from last to first(reverse order)\n",
    "        writer.writerow(word[i])                   # as number of words in last row is maximum\n",
    "        "
   ]
  },
  {
   "cell_type": "code",
   "execution_count": 28,
   "metadata": {},
   "outputs": [
    {
     "data": {
      "text/html": [
       "<div>\n",
       "<style scoped>\n",
       "    .dataframe tbody tr th:only-of-type {\n",
       "        vertical-align: middle;\n",
       "    }\n",
       "\n",
       "    .dataframe tbody tr th {\n",
       "        vertical-align: top;\n",
       "    }\n",
       "\n",
       "    .dataframe thead th {\n",
       "        text-align: right;\n",
       "    }\n",
       "</style>\n",
       "<table border=\"1\" class=\"dataframe\">\n",
       "  <thead>\n",
       "    <tr style=\"text-align: right;\">\n",
       "      <th></th>\n",
       "      <th>0</th>\n",
       "      <th>1</th>\n",
       "      <th>2</th>\n",
       "      <th>3</th>\n",
       "      <th>4</th>\n",
       "      <th>5</th>\n",
       "      <th>6</th>\n",
       "      <th>7</th>\n",
       "      <th>8</th>\n",
       "      <th>9</th>\n",
       "      <th>10</th>\n",
       "      <th>11</th>\n",
       "      <th>12</th>\n",
       "      <th>13</th>\n",
       "      <th>14</th>\n",
       "      <th>15</th>\n",
       "      <th>16</th>\n",
       "      <th>17</th>\n",
       "      <th>18</th>\n",
       "      <th>19</th>\n",
       "      <th>20</th>\n",
       "      <th>21</th>\n",
       "      <th>22</th>\n",
       "      <th>23</th>\n",
       "    </tr>\n",
       "  </thead>\n",
       "  <tbody>\n",
       "    <tr>\n",
       "      <th>4</th>\n",
       "      <td>Hello</td>\n",
       "      <td>there</td>\n",
       "      <td>how</td>\n",
       "      <td>are</td>\n",
       "      <td>you</td>\n",
       "      <td>Weather</td>\n",
       "      <td>is</td>\n",
       "      <td>awesome</td>\n",
       "      <td>Its</td>\n",
       "      <td>raining</td>\n",
       "      <td>here</td>\n",
       "      <td>now</td>\n",
       "      <td>NaN</td>\n",
       "      <td>NaN</td>\n",
       "      <td>NaN</td>\n",
       "      <td>NaN</td>\n",
       "      <td>NaN</td>\n",
       "      <td>NaN</td>\n",
       "      <td>NaN</td>\n",
       "      <td>NaN</td>\n",
       "      <td>NaN</td>\n",
       "      <td>NaN</td>\n",
       "      <td>NaN</td>\n",
       "      <td>NaN</td>\n",
       "    </tr>\n",
       "    <tr>\n",
       "      <th>3</th>\n",
       "      <td>Hello</td>\n",
       "      <td>Mr</td>\n",
       "      <td>Raja</td>\n",
       "      <td>how</td>\n",
       "      <td>are</td>\n",
       "      <td>you</td>\n",
       "      <td>Weather</td>\n",
       "      <td>is</td>\n",
       "      <td>awesome</td>\n",
       "      <td>Its</td>\n",
       "      <td>raining</td>\n",
       "      <td>here</td>\n",
       "      <td>now</td>\n",
       "      <td>NaN</td>\n",
       "      <td>NaN</td>\n",
       "      <td>NaN</td>\n",
       "      <td>NaN</td>\n",
       "      <td>NaN</td>\n",
       "      <td>NaN</td>\n",
       "      <td>NaN</td>\n",
       "      <td>NaN</td>\n",
       "      <td>NaN</td>\n",
       "      <td>NaN</td>\n",
       "      <td>NaN</td>\n",
       "    </tr>\n",
       "    <tr>\n",
       "      <th>2</th>\n",
       "      <td>Hello</td>\n",
       "      <td>Mr</td>\n",
       "      <td>Raja</td>\n",
       "      <td>how</td>\n",
       "      <td>are</td>\n",
       "      <td>you</td>\n",
       "      <td>Weather</td>\n",
       "      <td>is</td>\n",
       "      <td>bad</td>\n",
       "      <td>Its</td>\n",
       "      <td>heavily</td>\n",
       "      <td>raining</td>\n",
       "      <td>here</td>\n",
       "      <td>now</td>\n",
       "      <td>NaN</td>\n",
       "      <td>NaN</td>\n",
       "      <td>NaN</td>\n",
       "      <td>NaN</td>\n",
       "      <td>NaN</td>\n",
       "      <td>NaN</td>\n",
       "      <td>NaN</td>\n",
       "      <td>NaN</td>\n",
       "      <td>NaN</td>\n",
       "      <td>NaN</td>\n",
       "    </tr>\n",
       "    <tr>\n",
       "      <th>1</th>\n",
       "      <td>NLP</td>\n",
       "      <td>is</td>\n",
       "      <td>great</td>\n",
       "      <td>technique</td>\n",
       "      <td>It</td>\n",
       "      <td>is</td>\n",
       "      <td>nice</td>\n",
       "      <td>to</td>\n",
       "      <td>learn</td>\n",
       "      <td>this</td>\n",
       "      <td>technique</td>\n",
       "      <td>NaN</td>\n",
       "      <td>NaN</td>\n",
       "      <td>NaN</td>\n",
       "      <td>NaN</td>\n",
       "      <td>NaN</td>\n",
       "      <td>NaN</td>\n",
       "      <td>NaN</td>\n",
       "      <td>NaN</td>\n",
       "      <td>NaN</td>\n",
       "      <td>NaN</td>\n",
       "      <td>NaN</td>\n",
       "      <td>NaN</td>\n",
       "      <td>NaN</td>\n",
       "    </tr>\n",
       "    <tr>\n",
       "      <th>0</th>\n",
       "      <td>AI</td>\n",
       "      <td>is</td>\n",
       "      <td>making</td>\n",
       "      <td>difference</td>\n",
       "      <td>in</td>\n",
       "      <td>this</td>\n",
       "      <td>world</td>\n",
       "      <td>now</td>\n",
       "      <td>It</td>\n",
       "      <td>would</td>\n",
       "      <td>be</td>\n",
       "      <td>helpful</td>\n",
       "      <td>for</td>\n",
       "      <td>betterment</td>\n",
       "      <td>of</td>\n",
       "      <td>human</td>\n",
       "      <td>life</td>\n",
       "      <td>We</td>\n",
       "      <td>need</td>\n",
       "      <td>to</td>\n",
       "      <td>make</td>\n",
       "      <td>advantage</td>\n",
       "      <td>of</td>\n",
       "      <td>that</td>\n",
       "    </tr>\n",
       "  </tbody>\n",
       "</table>\n",
       "</div>"
      ],
      "text/plain": [
       "      0      1       2           3    4        5        6        7        8   \\\n",
       "4  Hello  there     how         are  you  Weather       is  awesome      Its   \n",
       "3  Hello     Mr    Raja         how  are      you  Weather       is  awesome   \n",
       "2  Hello     Mr    Raja         how  are      you  Weather       is      bad   \n",
       "1    NLP     is   great   technique   It       is     nice       to    learn   \n",
       "0     AI     is  making  difference   in     this    world      now       It   \n",
       "\n",
       "        9          10       11    12          13   14     15    16   17    18  \\\n",
       "4  raining       here      now   NaN         NaN  NaN    NaN   NaN  NaN   NaN   \n",
       "3      Its    raining     here   now         NaN  NaN    NaN   NaN  NaN   NaN   \n",
       "2      Its    heavily  raining  here         now  NaN    NaN   NaN  NaN   NaN   \n",
       "1     this  technique      NaN   NaN         NaN  NaN    NaN   NaN  NaN   NaN   \n",
       "0    would         be  helpful   for  betterment   of  human  life   We  need   \n",
       "\n",
       "    19    20         21   22    23  \n",
       "4  NaN   NaN        NaN  NaN   NaN  \n",
       "3  NaN   NaN        NaN  NaN   NaN  \n",
       "2  NaN   NaN        NaN  NaN   NaN  \n",
       "1  NaN   NaN        NaN  NaN   NaN  \n",
       "0   to  make  advantage   of  that  "
      ]
     },
     "execution_count": 28,
     "metadata": {},
     "output_type": "execute_result"
    }
   ],
   "source": [
    "df_out2 = pd.read_csv('data_out2.csv',header = None)\n",
    "df_out2.sort_index(ascending = False)"
   ]
  },
  {
   "cell_type": "markdown",
   "metadata": {},
   "source": [
    "### question 3"
   ]
  },
  {
   "cell_type": "code",
   "execution_count": 29,
   "metadata": {},
   "outputs": [
    {
     "data": {
      "text/html": [
       "<div>\n",
       "<style scoped>\n",
       "    .dataframe tbody tr th:only-of-type {\n",
       "        vertical-align: middle;\n",
       "    }\n",
       "\n",
       "    .dataframe tbody tr th {\n",
       "        vertical-align: top;\n",
       "    }\n",
       "\n",
       "    .dataframe thead th {\n",
       "        text-align: right;\n",
       "    }\n",
       "</style>\n",
       "<table border=\"1\" class=\"dataframe\">\n",
       "  <thead>\n",
       "    <tr style=\"text-align: right;\">\n",
       "      <th></th>\n",
       "      <th>0</th>\n",
       "    </tr>\n",
       "  </thead>\n",
       "  <tbody>\n",
       "    <tr>\n",
       "      <th>0</th>\n",
       "      <td>Hello there, how are you? Weather is awesome. Its raining here now.</td>\n",
       "    </tr>\n",
       "    <tr>\n",
       "      <th>1</th>\n",
       "      <td>Hello Mr. Raja, how are you? Weather is awesome. Its raining here now.</td>\n",
       "    </tr>\n",
       "    <tr>\n",
       "      <th>2</th>\n",
       "      <td>Hello Mr. Raja, how are you. Weather is bad. Its heavily raining here now.</td>\n",
       "    </tr>\n",
       "    <tr>\n",
       "      <th>3</th>\n",
       "      <td>NLP is great technique. It is nice to learn this technique.</td>\n",
       "    </tr>\n",
       "    <tr>\n",
       "      <th>4</th>\n",
       "      <td>AI is making difference in this world now.  It would be helpful for betterment of human life. We need to make advantage of that.</td>\n",
       "    </tr>\n",
       "  </tbody>\n",
       "</table>\n",
       "</div>"
      ],
      "text/plain": [
       "                                                                                                                                  0\n",
       "0                                                               Hello there, how are you? Weather is awesome. Its raining here now.\n",
       "1                                                            Hello Mr. Raja, how are you? Weather is awesome. Its raining here now.\n",
       "2                                                        Hello Mr. Raja, how are you. Weather is bad. Its heavily raining here now.\n",
       "3                                                                       NLP is great technique. It is nice to learn this technique.\n",
       "4  AI is making difference in this world now.  It would be helpful for betterment of human life. We need to make advantage of that."
      ]
     },
     "execution_count": 29,
     "metadata": {},
     "output_type": "execute_result"
    }
   ],
   "source": [
    "df3 = pd.read_csv('NLPdataEx3&4-data_in.txt',header = None, delimiter = \"\\n\")\n",
    "df3"
   ]
  },
  {
   "cell_type": "code",
   "execution_count": 30,
   "metadata": {},
   "outputs": [
    {
     "data": {
      "text/plain": [
       "'Hello Mr. Raja, how are you? Weather is awesome. Its raining here now.'"
      ]
     },
     "execution_count": 30,
     "metadata": {},
     "output_type": "execute_result"
    }
   ],
   "source": [
    "#getting rows\n",
    "df3[0][1]"
   ]
  },
  {
   "cell_type": "code",
   "execution_count": 31,
   "metadata": {},
   "outputs": [],
   "source": [
    "lemmatizer = WordNetLemmatizer()"
   ]
  },
  {
   "cell_type": "code",
   "execution_count": 32,
   "metadata": {
    "scrolled": true
   },
   "outputs": [
    {
     "name": "stdout",
     "output_type": "stream",
     "text": [
      "Lammatized words from each sentence :  ['Hello', 'there', 'how', 'are', 'you', 'Weather', 'is', 'awesome', 'Its', 'raining', 'here', 'now']\n",
      "Chunks :  (S\n",
      "  (GPE Hello/NNP)\n",
      "  there/EX\n",
      "  how/WRB\n",
      "  are/VBP\n",
      "  you/PRP\n",
      "  (PERSON Weather/NNP)\n",
      "  is/VBZ\n",
      "  awesome/JJ\n",
      "  Its/PRP$\n",
      "  raining/VBG\n",
      "  here/RB\n",
      "  now/RB)\n",
      "Lammatized words from each sentence :  ['Hello', 'Mr', 'Raja', 'how', 'are', 'you', 'Weather', 'is', 'awesome', 'Its', 'raining', 'here', 'now']\n",
      "Chunks :  (S\n",
      "  (PERSON Hello/NNP)\n",
      "  Mr/NNP\n",
      "  Raja/NNP\n",
      "  how/WRB\n",
      "  are/VBP\n",
      "  you/PRP\n",
      "  (PERSON Weather/NNP)\n",
      "  is/VBZ\n",
      "  awesome/JJ\n",
      "  Its/PRP$\n",
      "  raining/VBG\n",
      "  here/RB\n",
      "  now/RB)\n",
      "Lammatized words from each sentence :  ['Hello', 'Mr', 'Raja', 'how', 'are', 'you', 'Weather', 'is', 'bad', 'Its', 'heavily', 'raining', 'here', 'now']\n",
      "Chunks :  (S\n",
      "  (PERSON Hello/NNP)\n",
      "  Mr/NNP\n",
      "  Raja/NNP\n",
      "  how/WRB\n",
      "  are/VBP\n",
      "  you/PRP\n",
      "  (PERSON Weather/NNP)\n",
      "  is/VBZ\n",
      "  bad/JJ\n",
      "  Its/PRP$\n",
      "  heavily/RB\n",
      "  raining/VBG\n",
      "  here/RB\n",
      "  now/RB)\n",
      "Lammatized words from each sentence :  ['NLP', 'is', 'great', 'technique', 'It', 'is', 'nice', 'to', 'learn', 'this', 'technique']\n",
      "Chunks :  (S\n",
      "  (ORGANIZATION NLP/NNP)\n",
      "  is/VBZ\n",
      "  great/JJ\n",
      "  technique/NN\n",
      "  It/PRP\n",
      "  is/VBZ\n",
      "  nice/JJ\n",
      "  to/TO\n",
      "  learn/VB\n",
      "  this/DT\n",
      "  technique/NN)\n",
      "Lammatized words from each sentence :  ['AI', 'is', 'making', 'difference', 'in', 'this', 'world', 'now', 'It', 'would', 'be', 'helpful', 'for', 'betterment', 'of', 'human', 'life', 'We', 'need', 'to', 'make', 'advantage', 'of', 'that']\n",
      "Chunks :  (S\n",
      "  AI/NNP\n",
      "  is/VBZ\n",
      "  making/VBG\n",
      "  difference/NN\n",
      "  in/IN\n",
      "  this/DT\n",
      "  world/NN\n",
      "  now/RB\n",
      "  It/PRP\n",
      "  would/MD\n",
      "  be/VB\n",
      "  helpful/JJ\n",
      "  for/IN\n",
      "  betterment/NN\n",
      "  of/IN\n",
      "  human/JJ\n",
      "  life/NN\n",
      "  We/PRP\n",
      "  need/VBP\n",
      "  to/TO\n",
      "  make/VB\n",
      "  advantage/NN\n",
      "  of/IN\n",
      "  that/DT)\n"
     ]
    }
   ],
   "source": [
    "for i in range(len(df3)):\n",
    "    review = re.sub('[^a-zA-Z]',' ',df3[0][i]) #removing other char apart from a-z 1st parameter and replacing with \n",
    "                                                             #space 2nd parameter for each row 3rd parameter\n",
    "    words = word_tokenize(review)\n",
    "    #print(\"words   :  \",words)\n",
    "    lam_words2 = []\n",
    "    for i in range(len(words)):\n",
    "        lam_words=lemmatizer.lemmatize(words[i])\n",
    "        lam_words2.append(lam_words)\n",
    "    print(\"Lammatized words from each sentence : \",lam_words2)\n",
    "    pos_word = pos_tag(lam_words2)\n",
    "    ne_ch = ne_chunk(pos_word)\n",
    "    print(\"Chunks : \",ne_ch)\n",
    "    ne_ch.draw()"
   ]
  },
  {
   "cell_type": "markdown",
   "metadata": {},
   "source": [
    "### question 4"
   ]
  },
  {
   "cell_type": "code",
   "execution_count": 33,
   "metadata": {},
   "outputs": [
    {
     "data": {
      "text/html": [
       "<div>\n",
       "<style scoped>\n",
       "    .dataframe tbody tr th:only-of-type {\n",
       "        vertical-align: middle;\n",
       "    }\n",
       "\n",
       "    .dataframe tbody tr th {\n",
       "        vertical-align: top;\n",
       "    }\n",
       "\n",
       "    .dataframe thead th {\n",
       "        text-align: right;\n",
       "    }\n",
       "</style>\n",
       "<table border=\"1\" class=\"dataframe\">\n",
       "  <thead>\n",
       "    <tr style=\"text-align: right;\">\n",
       "      <th></th>\n",
       "      <th>0</th>\n",
       "    </tr>\n",
       "  </thead>\n",
       "  <tbody>\n",
       "    <tr>\n",
       "      <th>0</th>\n",
       "      <td>Hello there, how are you? Weather is awesome. Its raining here now.</td>\n",
       "    </tr>\n",
       "    <tr>\n",
       "      <th>1</th>\n",
       "      <td>Hello Mr. Raja, how are you? Weather is awesome. Its raining here now.</td>\n",
       "    </tr>\n",
       "    <tr>\n",
       "      <th>2</th>\n",
       "      <td>Hello Mr. Raja, how are you. Weather is bad. Its heavily raining here now.</td>\n",
       "    </tr>\n",
       "    <tr>\n",
       "      <th>3</th>\n",
       "      <td>NLP is great technique. It is nice to learn this technique.</td>\n",
       "    </tr>\n",
       "    <tr>\n",
       "      <th>4</th>\n",
       "      <td>AI is making difference in this world now.  It would be helpful for betterment of human life. We need to make advantage of that.</td>\n",
       "    </tr>\n",
       "  </tbody>\n",
       "</table>\n",
       "</div>"
      ],
      "text/plain": [
       "                                                                                                                                  0\n",
       "0                                                               Hello there, how are you? Weather is awesome. Its raining here now.\n",
       "1                                                            Hello Mr. Raja, how are you? Weather is awesome. Its raining here now.\n",
       "2                                                        Hello Mr. Raja, how are you. Weather is bad. Its heavily raining here now.\n",
       "3                                                                       NLP is great technique. It is nice to learn this technique.\n",
       "4  AI is making difference in this world now.  It would be helpful for betterment of human life. We need to make advantage of that."
      ]
     },
     "execution_count": 33,
     "metadata": {},
     "output_type": "execute_result"
    }
   ],
   "source": [
    "df3"
   ]
  },
  {
   "cell_type": "code",
   "execution_count": 34,
   "metadata": {},
   "outputs": [],
   "source": [
    "from nltk.corpus import stopwords\n",
    "from nltk.stem.porter import PorterStemmer\n",
    "from nltk.stem import WordNetLemmatizer"
   ]
  },
  {
   "cell_type": "code",
   "execution_count": 35,
   "metadata": {},
   "outputs": [],
   "source": [
    "ps = PorterStemmer()\n",
    "lm = WordNetLemmatizer()\n",
    "\n",
    "stem_meaningful_words = []\n",
    "lamm_meaningful_words = []\n",
    "\n",
    "for i in range(len(df3)):\n",
    "    review = re.sub(\"[^a-zA-Z]\",' ',df3[0][i])\n",
    "    review = review.lower()\n",
    "    review = review.split()\n",
    "    stemming = []\n",
    "    lammitizing = []\n",
    "    \n",
    "    for word in review:\n",
    "        if word not in set(stopwords.words('english')):     #checking all word weather its there or not in the stop words\n",
    "            stemming.append(ps.stem(word))                  #appling steming on each meaningful word\n",
    "            lammitizing.append(lm.lemmatize(word))          #appling lammitizing on each meaningful word\n",
    "            \n",
    "    stem_meaningful_words.append(stemming)\n",
    "    lamm_meaningful_words.append(lammitizing)"
   ]
  },
  {
   "cell_type": "code",
   "execution_count": 36,
   "metadata": {},
   "outputs": [
    {
     "data": {
      "text/plain": [
       "[['hello', 'weather', 'awesom', 'rain'],\n",
       " ['hello', 'mr', 'raja', 'weather', 'awesom', 'rain'],\n",
       " ['hello', 'mr', 'raja', 'weather', 'bad', 'heavili', 'rain'],\n",
       " ['nlp', 'great', 'techniqu', 'nice', 'learn', 'techniqu'],\n",
       " ['ai',\n",
       "  'make',\n",
       "  'differ',\n",
       "  'world',\n",
       "  'would',\n",
       "  'help',\n",
       "  'better',\n",
       "  'human',\n",
       "  'life',\n",
       "  'need',\n",
       "  'make',\n",
       "  'advantag']]"
      ]
     },
     "execution_count": 36,
     "metadata": {},
     "output_type": "execute_result"
    }
   ],
   "source": [
    "stem_meaningful_words"
   ]
  },
  {
   "cell_type": "code",
   "execution_count": 37,
   "metadata": {},
   "outputs": [
    {
     "data": {
      "text/plain": [
       "[['hello', 'weather', 'awesome', 'raining'],\n",
       " ['hello', 'mr', 'raja', 'weather', 'awesome', 'raining'],\n",
       " ['hello', 'mr', 'raja', 'weather', 'bad', 'heavily', 'raining'],\n",
       " ['nlp', 'great', 'technique', 'nice', 'learn', 'technique'],\n",
       " ['ai',\n",
       "  'making',\n",
       "  'difference',\n",
       "  'world',\n",
       "  'would',\n",
       "  'helpful',\n",
       "  'betterment',\n",
       "  'human',\n",
       "  'life',\n",
       "  'need',\n",
       "  'make',\n",
       "  'advantage']]"
      ]
     },
     "execution_count": 37,
     "metadata": {},
     "output_type": "execute_result"
    }
   ],
   "source": [
    "lamm_meaningful_words"
   ]
  },
  {
   "cell_type": "markdown",
   "metadata": {},
   "source": [
    "### question 5"
   ]
  },
  {
   "cell_type": "code",
   "execution_count": 38,
   "metadata": {},
   "outputs": [
    {
     "data": {
      "text/html": [
       "<div>\n",
       "<style scoped>\n",
       "    .dataframe tbody tr th:only-of-type {\n",
       "        vertical-align: middle;\n",
       "    }\n",
       "\n",
       "    .dataframe tbody tr th {\n",
       "        vertical-align: top;\n",
       "    }\n",
       "\n",
       "    .dataframe thead th {\n",
       "        text-align: right;\n",
       "    }\n",
       "</style>\n",
       "<table border=\"1\" class=\"dataframe\">\n",
       "  <thead>\n",
       "    <tr style=\"text-align: right;\">\n",
       "      <th></th>\n",
       "      <th>0</th>\n",
       "    </tr>\n",
       "  </thead>\n",
       "  <tbody>\n",
       "    <tr>\n",
       "      <th>0</th>\n",
       "      <td>Rose is beautiful.</td>\n",
       "    </tr>\n",
       "    <tr>\n",
       "      <th>1</th>\n",
       "      <td>Place is nasty to stay.</td>\n",
       "    </tr>\n",
       "    <tr>\n",
       "      <th>2</th>\n",
       "      <td>This is the beauty of this technique.</td>\n",
       "    </tr>\n",
       "    <tr>\n",
       "      <th>3</th>\n",
       "      <td>Concept is explained beautifully in this book.</td>\n",
       "    </tr>\n",
       "    <tr>\n",
       "      <th>4</th>\n",
       "      <td>He annoyed me.</td>\n",
       "    </tr>\n",
       "    <tr>\n",
       "      <th>5</th>\n",
       "      <td>Its the supreme place to stay.</td>\n",
       "    </tr>\n",
       "    <tr>\n",
       "      <th>6</th>\n",
       "      <td>I hate this place.</td>\n",
       "    </tr>\n",
       "    <tr>\n",
       "      <th>7</th>\n",
       "      <td>Dont annoy the customer.</td>\n",
       "    </tr>\n",
       "    <tr>\n",
       "      <th>8</th>\n",
       "      <td>He has given nasty comments about his stay.</td>\n",
       "    </tr>\n",
       "    <tr>\n",
       "      <th>9</th>\n",
       "      <td>Dessert is awesome.</td>\n",
       "    </tr>\n",
       "    <tr>\n",
       "      <th>10</th>\n",
       "      <td>Your gift is wonderful.</td>\n",
       "    </tr>\n",
       "  </tbody>\n",
       "</table>\n",
       "</div>"
      ],
      "text/plain": [
       "                                                 0\n",
       "0                               Rose is beautiful.\n",
       "1                          Place is nasty to stay.\n",
       "2            This is the beauty of this technique.\n",
       "3   Concept is explained beautifully in this book.\n",
       "4                                   He annoyed me.\n",
       "5                   Its the supreme place to stay.\n",
       "6                               I hate this place.\n",
       "7                         Dont annoy the customer.\n",
       "8      He has given nasty comments about his stay.\n",
       "9                              Dessert is awesome.\n",
       "10                         Your gift is wonderful."
      ]
     },
     "execution_count": 38,
     "metadata": {},
     "output_type": "execute_result"
    }
   ],
   "source": [
    "df5 = pd.read_csv(\"NLPdataEx5data_senti_analyze.txt\", header = None)\n",
    "df5"
   ]
  },
  {
   "cell_type": "code",
   "execution_count": 39,
   "metadata": {},
   "outputs": [
    {
     "name": "stdout",
     "output_type": "stream",
     "text": [
      "neg words hate hatred annoyed annoy annoyingly nasty\n",
      "pos words nice excellent good wonderful best better awesome beautiful beauty beautifully supreme\n"
     ]
    },
    {
     "data": {
      "text/plain": [
       "{'hate': -1,\n",
       " 'hatred': -2,\n",
       " 'annoyed': -3,\n",
       " 'annoy': -4,\n",
       " 'annoyingly': -5,\n",
       " 'nasty': -6,\n",
       " 'nice': 1,\n",
       " 'excellent': 2,\n",
       " 'good': 3,\n",
       " 'wonderful': 4,\n",
       " 'best': 5,\n",
       " 'better': 6,\n",
       " 'awesome': 7,\n",
       " 'beautiful': 8,\n",
       " 'beauty': 9,\n",
       " 'beautifully': 10,\n",
       " 'supreme': 11}"
      ]
     },
     "execution_count": 39,
     "metadata": {},
     "output_type": "execute_result"
    }
   ],
   "source": [
    "sent_dict = {}\n",
    "with open(\"NLPdataEx5dict.txt\") as file:\n",
    "    for each_line in file:\n",
    "        each_line = re.sub(\"[^a-zA-Z]\",' ',each_line)\n",
    "        each_line = re.sub(\"\\s+\",\" \",each_line.strip())\n",
    "        print(each_line)\n",
    "        \n",
    "        each_line_word = each_line.split(\" \")\n",
    "        if each_line_word[0]==\"neg\":\n",
    "            for i in range(2,len(each_line_word)):\n",
    "                word = each_line_word[i]\n",
    "                sent_dict[word]= -(i-1)\n",
    "        else:\n",
    "            for i in range(2,len(each_line_word)):\n",
    "                word = each_line_word[i]\n",
    "                sent_dict[word]= (i-1)\n",
    "sent_dict"
   ]
  },
  {
   "cell_type": "code",
   "execution_count": 40,
   "metadata": {},
   "outputs": [
    {
     "data": {
      "text/html": [
       "<div>\n",
       "<style scoped>\n",
       "    .dataframe tbody tr th:only-of-type {\n",
       "        vertical-align: middle;\n",
       "    }\n",
       "\n",
       "    .dataframe tbody tr th {\n",
       "        vertical-align: top;\n",
       "    }\n",
       "\n",
       "    .dataframe thead th {\n",
       "        text-align: right;\n",
       "    }\n",
       "</style>\n",
       "<table border=\"1\" class=\"dataframe\">\n",
       "  <thead>\n",
       "    <tr style=\"text-align: right;\">\n",
       "      <th></th>\n",
       "      <th>0</th>\n",
       "    </tr>\n",
       "  </thead>\n",
       "  <tbody>\n",
       "    <tr>\n",
       "      <th>0</th>\n",
       "      <td>Rose is beautiful.</td>\n",
       "    </tr>\n",
       "    <tr>\n",
       "      <th>1</th>\n",
       "      <td>Place is nasty to stay.</td>\n",
       "    </tr>\n",
       "  </tbody>\n",
       "</table>\n",
       "</div>"
      ],
      "text/plain": [
       "                         0\n",
       "0       Rose is beautiful.\n",
       "1  Place is nasty to stay."
      ]
     },
     "execution_count": 40,
     "metadata": {},
     "output_type": "execute_result"
    }
   ],
   "source": [
    "df5.head(2)"
   ]
  },
  {
   "cell_type": "code",
   "execution_count": 41,
   "metadata": {},
   "outputs": [
    {
     "data": {
      "text/plain": [
       "['Positive',\n",
       " 'Negative',\n",
       " 'Positive',\n",
       " 'Positive',\n",
       " 'Negative',\n",
       " 'Positive',\n",
       " 'Negative',\n",
       " 'Negative',\n",
       " 'Negative',\n",
       " 'Positive',\n",
       " 'Positive']"
      ]
     },
     "execution_count": 41,
     "metadata": {},
     "output_type": "execute_result"
    }
   ],
   "source": [
    "sentiment = []\n",
    "values = []\n",
    "for i in range(len(df5)):\n",
    "    words = word_tokenize(df5[0][i])\n",
    "    value = sum(sent_dict.get(word,0) for word in words)\n",
    "    values.append(value)\n",
    "    if value >= 0:\n",
    "        sentiment.append(\"Positive\")\n",
    "    else :\n",
    "        sentiment.append(\"Negative\")\n",
    "sentiment"
   ]
  },
  {
   "cell_type": "code",
   "execution_count": 42,
   "metadata": {},
   "outputs": [],
   "source": [
    "df5[\"Sentiment\"] = sentiment\n",
    "df5[\"Values\"]= values"
   ]
  },
  {
   "cell_type": "code",
   "execution_count": 43,
   "metadata": {},
   "outputs": [
    {
     "data": {
      "text/html": [
       "<div>\n",
       "<style scoped>\n",
       "    .dataframe tbody tr th:only-of-type {\n",
       "        vertical-align: middle;\n",
       "    }\n",
       "\n",
       "    .dataframe tbody tr th {\n",
       "        vertical-align: top;\n",
       "    }\n",
       "\n",
       "    .dataframe thead th {\n",
       "        text-align: right;\n",
       "    }\n",
       "</style>\n",
       "<table border=\"1\" class=\"dataframe\">\n",
       "  <thead>\n",
       "    <tr style=\"text-align: right;\">\n",
       "      <th></th>\n",
       "      <th>0</th>\n",
       "      <th>Sentiment</th>\n",
       "      <th>Values</th>\n",
       "    </tr>\n",
       "  </thead>\n",
       "  <tbody>\n",
       "    <tr>\n",
       "      <th>0</th>\n",
       "      <td>Rose is beautiful.</td>\n",
       "      <td>Positive</td>\n",
       "      <td>8</td>\n",
       "    </tr>\n",
       "    <tr>\n",
       "      <th>1</th>\n",
       "      <td>Place is nasty to stay.</td>\n",
       "      <td>Negative</td>\n",
       "      <td>-6</td>\n",
       "    </tr>\n",
       "    <tr>\n",
       "      <th>2</th>\n",
       "      <td>This is the beauty of this technique.</td>\n",
       "      <td>Positive</td>\n",
       "      <td>9</td>\n",
       "    </tr>\n",
       "    <tr>\n",
       "      <th>3</th>\n",
       "      <td>Concept is explained beautifully in this book.</td>\n",
       "      <td>Positive</td>\n",
       "      <td>10</td>\n",
       "    </tr>\n",
       "    <tr>\n",
       "      <th>4</th>\n",
       "      <td>He annoyed me.</td>\n",
       "      <td>Negative</td>\n",
       "      <td>-3</td>\n",
       "    </tr>\n",
       "    <tr>\n",
       "      <th>5</th>\n",
       "      <td>Its the supreme place to stay.</td>\n",
       "      <td>Positive</td>\n",
       "      <td>11</td>\n",
       "    </tr>\n",
       "    <tr>\n",
       "      <th>6</th>\n",
       "      <td>I hate this place.</td>\n",
       "      <td>Negative</td>\n",
       "      <td>-1</td>\n",
       "    </tr>\n",
       "    <tr>\n",
       "      <th>7</th>\n",
       "      <td>Dont annoy the customer.</td>\n",
       "      <td>Negative</td>\n",
       "      <td>-4</td>\n",
       "    </tr>\n",
       "    <tr>\n",
       "      <th>8</th>\n",
       "      <td>He has given nasty comments about his stay.</td>\n",
       "      <td>Negative</td>\n",
       "      <td>-6</td>\n",
       "    </tr>\n",
       "    <tr>\n",
       "      <th>9</th>\n",
       "      <td>Dessert is awesome.</td>\n",
       "      <td>Positive</td>\n",
       "      <td>7</td>\n",
       "    </tr>\n",
       "    <tr>\n",
       "      <th>10</th>\n",
       "      <td>Your gift is wonderful.</td>\n",
       "      <td>Positive</td>\n",
       "      <td>4</td>\n",
       "    </tr>\n",
       "  </tbody>\n",
       "</table>\n",
       "</div>"
      ],
      "text/plain": [
       "                                                 0 Sentiment  Values\n",
       "0                               Rose is beautiful.  Positive       8\n",
       "1                          Place is nasty to stay.  Negative      -6\n",
       "2            This is the beauty of this technique.  Positive       9\n",
       "3   Concept is explained beautifully in this book.  Positive      10\n",
       "4                                   He annoyed me.  Negative      -3\n",
       "5                   Its the supreme place to stay.  Positive      11\n",
       "6                               I hate this place.  Negative      -1\n",
       "7                         Dont annoy the customer.  Negative      -4\n",
       "8      He has given nasty comments about his stay.  Negative      -6\n",
       "9                              Dessert is awesome.  Positive       7\n",
       "10                         Your gift is wonderful.  Positive       4"
      ]
     },
     "execution_count": 43,
     "metadata": {},
     "output_type": "execute_result"
    }
   ],
   "source": [
    "df5"
   ]
  },
  {
   "cell_type": "code",
   "execution_count": null,
   "metadata": {},
   "outputs": [],
   "source": []
  },
  {
   "cell_type": "code",
   "execution_count": null,
   "metadata": {},
   "outputs": [],
   "source": []
  }
 ],
 "metadata": {
  "kernelspec": {
   "display_name": "Python 3",
   "language": "python",
   "name": "python3"
  },
  "language_info": {
   "codemirror_mode": {
    "name": "ipython",
    "version": 3
   },
   "file_extension": ".py",
   "mimetype": "text/x-python",
   "name": "python",
   "nbconvert_exporter": "python",
   "pygments_lexer": "ipython3",
   "version": "3.7.3"
  }
 },
 "nbformat": 4,
 "nbformat_minor": 2
}
